{
 "cells": [
  {
   "cell_type": "markdown",
   "id": "1084c217-cdc4-449e-a2ba-596b05151b2d",
   "metadata": {},
   "source": [
    "# List"
   ]
  },
  {
   "cell_type": "code",
   "execution_count": 7,
   "id": "e268b094-1108-4cd1-a1fc-ce5d4a72e973",
   "metadata": {},
   "outputs": [],
   "source": [
    "nombres = ['edu','abril','rodolfo','mauricio']"
   ]
  },
  {
   "cell_type": "code",
   "execution_count": 8,
   "id": "da300cdb-fc76-48b1-95fa-5b0704730931",
   "metadata": {},
   "outputs": [
    {
     "data": {
      "text/plain": [
       "list"
      ]
     },
     "execution_count": 8,
     "metadata": {},
     "output_type": "execute_result"
    }
   ],
   "source": [
    "type(nombres)"
   ]
  },
  {
   "cell_type": "code",
   "execution_count": 9,
   "id": "9edf8068-b87a-4ace-a891-12903cf1dd47",
   "metadata": {},
   "outputs": [
    {
     "data": {
      "text/plain": [
       "'abril'"
      ]
     },
     "execution_count": 9,
     "metadata": {},
     "output_type": "execute_result"
    }
   ],
   "source": [
    "nombres[1]"
   ]
  },
  {
   "cell_type": "markdown",
   "id": "18489a10-0827-4ebb-9e99-866e6db8917e",
   "metadata": {},
   "source": [
    "Las listas si son mutables, lo que significa que si pueden cambiar de valor."
   ]
  },
  {
   "cell_type": "markdown",
   "id": "207fa7fa-b0a9-4896-8fbf-521eb61bc2a1",
   "metadata": {},
   "source": [
    "Vamos a cambiar de valor a \"mauricio\" por \"Snorlax\""
   ]
  },
  {
   "cell_type": "code",
   "execution_count": 10,
   "id": "c0fe1b09-77b3-4159-8884-9f4409d1d911",
   "metadata": {},
   "outputs": [],
   "source": [
    "nombres[3]= 'Snorlax'"
   ]
  },
  {
   "cell_type": "code",
   "execution_count": 11,
   "id": "9d872372-6a52-48f6-9709-0d14537d6fa9",
   "metadata": {},
   "outputs": [
    {
     "data": {
      "text/plain": [
       "['edu', 'abril', 'rodolfo', 'Snorlax']"
      ]
     },
     "execution_count": 11,
     "metadata": {},
     "output_type": "execute_result"
    }
   ],
   "source": [
    "nombres"
   ]
  },
  {
   "cell_type": "code",
   "execution_count": 13,
   "id": "b509316a-387e-4b86-883a-d78ccf5b5e49",
   "metadata": {},
   "outputs": [],
   "source": [
    "edades = [24,[24,27],29,[30,12,32]]"
   ]
  },
  {
   "cell_type": "code",
   "execution_count": 14,
   "id": "f51dda46-850d-4915-bd23-6a99061ecd8e",
   "metadata": {},
   "outputs": [
    {
     "data": {
      "text/plain": [
       "[24, 27]"
      ]
     },
     "execution_count": 14,
     "metadata": {},
     "output_type": "execute_result"
    }
   ],
   "source": [
    "edades[1]"
   ]
  },
  {
   "cell_type": "code",
   "execution_count": 15,
   "id": "468a6b79-f4bb-4ade-9b0c-cfc47712de0e",
   "metadata": {},
   "outputs": [
    {
     "data": {
      "text/plain": [
       "32"
      ]
     },
     "execution_count": 15,
     "metadata": {},
     "output_type": "execute_result"
    }
   ],
   "source": [
    "edades[3][-1]"
   ]
  },
  {
   "cell_type": "markdown",
   "id": "7fd31736-46df-41f9-87c5-afc83303a01a",
   "metadata": {},
   "source": [
    "Podemos agregar uno o más elementos o listas a nuestras listas, debido a que son mutables"
   ]
  },
  {
   "cell_type": "code",
   "execution_count": 17,
   "id": "036dad22-6bed-4260-a129-18912fb6f500",
   "metadata": {},
   "outputs": [],
   "source": [
    "edades.extend([nombres])"
   ]
  },
  {
   "cell_type": "code",
   "execution_count": 18,
   "id": "d436fec1-2889-418c-9a8f-64598b8ab4a4",
   "metadata": {},
   "outputs": [
    {
     "data": {
      "text/plain": [
       "[24, [24, 27], 29, [30, 12, 32], ['edu', 'abril', 'rodolfo', 'Snorlax']]"
      ]
     },
     "execution_count": 18,
     "metadata": {},
     "output_type": "execute_result"
    }
   ],
   "source": [
    "edades"
   ]
  },
  {
   "cell_type": "code",
   "execution_count": 19,
   "id": "cf93c6c2-b45f-4374-905d-bd5004c8ffee",
   "metadata": {},
   "outputs": [],
   "source": [
    "edades.append(['Pikachu','Llama'])"
   ]
  },
  {
   "cell_type": "code",
   "execution_count": 20,
   "id": "2ec83450-d4d2-490c-a9bc-19f3d7a89a3b",
   "metadata": {},
   "outputs": [
    {
     "data": {
      "text/plain": [
       "[24,\n",
       " [24, 27],\n",
       " 29,\n",
       " [30, 12, 32],\n",
       " ['edu', 'abril', 'rodolfo', 'Snorlax'],\n",
       " ['Pikachu', 'Llama']]"
      ]
     },
     "execution_count": 20,
     "metadata": {},
     "output_type": "execute_result"
    }
   ],
   "source": [
    "edades"
   ]
  },
  {
   "cell_type": "code",
   "execution_count": 24,
   "id": "a05115a6-bea7-472e-a651-48bebb8cd3bc",
   "metadata": {},
   "outputs": [],
   "source": [
    "del(edades[1])"
   ]
  },
  {
   "cell_type": "code",
   "execution_count": 25,
   "id": "2a258370-8e8a-4287-bc28-4f00beddabe4",
   "metadata": {},
   "outputs": [
    {
     "data": {
      "text/plain": [
       "[24,\n",
       " 29,\n",
       " [30, 12, 32],\n",
       " ['edu', 'abril', 'rodolfo', 'Snorlax'],\n",
       " ['Pikachu', 'Llama']]"
      ]
     },
     "execution_count": 25,
     "metadata": {},
     "output_type": "execute_result"
    }
   ],
   "source": [
    "edades"
   ]
  },
  {
   "cell_type": "code",
   "execution_count": null,
   "id": "57e481d8-ff8a-4510-aa4f-8f20c3718415",
   "metadata": {},
   "outputs": [],
   "source": []
  }
 ],
 "metadata": {
  "kernelspec": {
   "display_name": "Python 3 (ipykernel)",
   "language": "python",
   "name": "python3"
  },
  "language_info": {
   "codemirror_mode": {
    "name": "ipython",
    "version": 3
   },
   "file_extension": ".py",
   "mimetype": "text/x-python",
   "name": "python",
   "nbconvert_exporter": "python",
   "pygments_lexer": "ipython3",
   "version": "3.12.7"
  }
 },
 "nbformat": 4,
 "nbformat_minor": 5
}
