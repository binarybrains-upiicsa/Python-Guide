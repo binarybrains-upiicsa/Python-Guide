{
 "cells": [
  {
   "cell_type": "markdown",
   "id": "cdd4d110-1ab3-4930-a58a-f7ce0b1646ae",
   "metadata": {},
   "source": [
    "# Tuples"
   ]
  },
  {
   "cell_type": "code",
   "execution_count": 2,
   "id": "1902efb0-4fae-4425-8e1d-13e4ebbbf365",
   "metadata": {},
   "outputs": [
    {
     "data": {
      "text/plain": [
       "tuple"
      ]
     },
     "execution_count": 2,
     "metadata": {},
     "output_type": "execute_result"
    }
   ],
   "source": [
    "edad= (2,3,4,5,0,20,12,40,30,7)\n",
    "type(edad)"
   ]
  },
  {
   "cell_type": "code",
   "execution_count": 6,
   "id": "008e3365-ff44-4504-92e8-558e3bdf24ff",
   "metadata": {},
   "outputs": [
    {
     "data": {
      "text/plain": [
       "3"
      ]
     },
     "execution_count": 6,
     "metadata": {},
     "output_type": "execute_result"
    }
   ],
   "source": [
    "edad[1]"
   ]
  },
  {
   "cell_type": "code",
   "execution_count": null,
   "id": "aaa9aca6-dbbb-48d2-ae94-a2e8cf6f9171",
   "metadata": {},
   "outputs": [],
   "source": []
  }
 ],
 "metadata": {
  "kernelspec": {
   "display_name": "Python 3 (ipykernel)",
   "language": "python",
   "name": "python3"
  },
  "language_info": {
   "codemirror_mode": {
    "name": "ipython",
    "version": 3
   },
   "file_extension": ".py",
   "mimetype": "text/x-python",
   "name": "python",
   "nbconvert_exporter": "python",
   "pygments_lexer": "ipython3",
   "version": "3.12.7"
  }
 },
 "nbformat": 4,
 "nbformat_minor": 5
}
