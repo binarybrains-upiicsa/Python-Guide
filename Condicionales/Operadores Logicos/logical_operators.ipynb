{
 "cells": [
  {
   "cell_type": "markdown",
   "id": "32ba5deb-4572-4afc-950f-87a95b4de351",
   "metadata": {},
   "source": [
    "# Operadores lógicos"
   ]
  },
  {
   "cell_type": "markdown",
   "id": "b680a900-f2b6-42d5-bd8e-54f69029ea41",
   "metadata": {},
   "source": [
    "Los operadores lógicos, también conocidos como operadores booleanos, combinan y evalúan dos condiciones, como las pueden ser las siguientes:"
   ]
  },
  {
   "cell_type": "markdown",
   "id": "d04b8212-d1b3-46c8-a223-4c0804db086e",
   "metadata": {},
   "source": [
    "* AND devuelve TRUE si ambas condiciones son TRUE, y FALSE en caso contrario.\n",
    "* OR devuelve TRUE si al menos una de las condiciones es TRUE, y FALSE en caso contrario.\n",
    "* NOT devuelve TRUE si la condición es FLASE, y viceversa."
   ]
  },
  {
   "cell_type": "code",
   "execution_count": 2,
   "id": "bb179a5c-03ac-461e-9acb-98a8db008257",
   "metadata": {},
   "outputs": [
    {
     "name": "stdout",
     "output_type": "stream",
     "text": [
      "¡Estoy en el paraíso culinario!\n"
     ]
    }
   ],
   "source": [
    "# Ejemplo con AND\n",
    "tengo_pizza = True\n",
    "tengo_helado = True\n",
    "\n",
    "if tengo_pizza and tengo_helado:\n",
    "    print(\"¡Estoy en el paraíso culinario!\")  # Ambos son indispensables\n",
    "else:\n",
    "    print(\"¡Falta algo para que sea el banquete perfecto!\")\n"
   ]
  },
  {
   "cell_type": "code",
   "execution_count": 1,
   "id": "53e2db9d-0d1a-4300-a1c1-2b701a7cf496",
   "metadata": {},
   "outputs": [
    {
     "name": "stdout",
     "output_type": "stream",
     "text": [
      "Hora de recargar baterías... ¡a dormir o a cafeinarse!\n"
     ]
    }
   ],
   "source": [
    "# Ejemplo con OR\n",
    "he_dormido = False\n",
    "tengo_cafe = True\n",
    "\n",
    "if he_dormido or tengo_cafe:\n",
    "    print(\"Hora de recargar baterías... ¡a dormir o a cafeinarse!\")  # Basta una de las dos\n",
    "else:\n",
    "    print(\"Sin siesta ni café, sobreviviendo a puro instinto.\")\n"
   ]
  },
  {
   "cell_type": "code",
   "execution_count": 3,
   "id": "fe165c5a-8c6d-4ec2-9324-b824379f0018",
   "metadata": {},
   "outputs": [
    {
     "name": "stdout",
     "output_type": "stream",
     "text": [
      "Ay, lunes... Que ya se acabe pls\n"
     ]
    }
   ],
   "source": [
    "# Ejemplo con NOT\n",
    "es_lunes = True\n",
    "\n",
    "if not es_lunes:\n",
    "    print(\"¡Feliz día! No es lunes, ¡a triunfar!\")  # Sólo entra si NO es lunes\n",
    "else:\n",
    "    print(\"Ay, lunes... Que ya se acabe pls\")\n"
   ]
  },
  {
   "cell_type": "markdown",
   "id": "329780d8-85e5-48ba-a33b-384d44db901e",
   "metadata": {},
   "source": []
  }
 ],
 "metadata": {
  "kernelspec": {
   "display_name": "Python 3 (ipykernel)",
   "language": "python",
   "name": "python3"
  },
  "language_info": {
   "codemirror_mode": {
    "name": "ipython",
    "version": 3
   },
   "file_extension": ".py",
   "mimetype": "text/x-python",
   "name": "python",
   "nbconvert_exporter": "python",
   "pygments_lexer": "ipython3",
   "version": "3.12.7"
  }
 },
 "nbformat": 4,
 "nbformat_minor": 5
}
