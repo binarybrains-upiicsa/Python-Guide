{
 "cells": [
  {
   "cell_type": "markdown",
   "id": "d87567b4-d6b5-4620-959a-2eb5d0713f9e",
   "metadata": {},
   "source": [
    "# Ejercicio"
   ]
  },
  {
   "cell_type": "markdown",
   "id": "eb29ea95-7744-4e78-9e76-8b2a9c60f74b",
   "metadata": {},
   "source": [
    "Basado en lo que hemos visto, de los controles de flujo como IF, input, y operadores aritméticos, haremos el siguiente ejercicio."
   ]
  },
  {
   "cell_type": "markdown",
   "id": "b8585621-1809-414e-b43d-253cf307e0c0",
   "metadata": {},
   "source": [
    "Crea un script en Python que simule el “Sombrero Seleccionador” de Hogwarts siguiendo estas indicaciones generales:\n",
    "\n",
    "1. **Puntuaciones iniciales**\n",
    "\n",
    "   * Define cuatro variables numéricas (enteros) para llevar la puntuación de cada casa, todas inicializadas a 0.\n",
    "\n",
    "2. **Tres preguntas con lógica de reparto de puntos**\n",
    "\n",
    "   * **Pregunta 1:** “¿Prefieres Amanecer (1) o Anochecer (2)?”\n",
    "\n",
    "     * Si elige 1, suma 1 punto a Gryffindor y 1 punto a Ravenclaw.\n",
    "     * Si elige 2, suma 1 punto a Hufflepuff y 1 punto a Slytherin.\n",
    "   * **Pregunta 2:** “Cuando muera, quiero que me recuerden como: 1) El Bueno, 2) El Grande, 3) El Sabio, 4) El Valiente”\n",
    "\n",
    "     * Asigna 2 puntos a la casa correspondiente a la opción (1→Hufflepuff, 2→Slytherin, 3→Ravenclaw, 4→Gryffindor).\n",
    "   * **Pregunta 3:** “¿Qué instrumento te gusta más? 1) Violín, 2) Trompeta, 3) Piano, 4) Tambor”\n",
    "\n",
    "     * Asigna 4 puntos a la casa elegida (1→Slytherin, 2→Hufflepuff, 3→Ravenclaw, 4→Gryffindor).\n",
    "\n",
    "3. **Lectura y validación de la entrada**\n",
    "\n",
    "   * Para cada pregunta, pide un número entero.\n",
    "   * Si la respuesta no coincide con ninguna opción válida, muestra un mensaje de error (por ejemplo, “Wrong input.”) y continúa con la siguiente pregunta.\n",
    "\n",
    "4. **Uso exclusivo de `if`**\n",
    "\n",
    "   * Toda la lógica de asignación de puntos, gestión de opciones inválidas y determinación de la casa ganadora debe implementarse **únicamente** con sentencias `if` (sin `elif`, `else`, `switch`, ni operadores ternarios).\n",
    "\n",
    "5. **Resultados**\n",
    "\n",
    "   * Una vez respondidas las tres preguntas, imprime la puntuación acumulada de cada casa.\n",
    "   * A continuación, compara las puntuaciones y anuncia la casa con más puntos (en caso de empate, quien cumpla primero la condición) junto con un emoji representativo.\n",
    "\n",
    "6. **Flexibilidad de implementación**\n",
    "\n",
    "   * Estructura el flujo como prefieras (funciones, bucles para validar, variables auxiliares…), siempre respetando la lógica de reparto de puntos y la restricción de usar solo `if`.\n",
    "   * Puedes ajustar el formato de los mensajes, pero conserva el espíritu de un cuestionario de tres rondas y una comparación final de puntuaciones.\n",
    "\n",
    "🦁 Gryffindor\n",
    "🦅 Ravenclaw\n",
    "🦡 Hufflepuff\n",
    "🐍 Slytherin\n"
   ]
  },
  {
   "cell_type": "code",
   "execution_count": null,
   "id": "2f136662-c9bd-47a6-a8b0-23506a695b70",
   "metadata": {},
   "outputs": [],
   "source": []
  }
 ],
 "metadata": {
  "kernelspec": {
   "display_name": "Python 3 (ipykernel)",
   "language": "python",
   "name": "python3"
  },
  "language_info": {
   "codemirror_mode": {
    "name": "ipython",
    "version": 3
   },
   "file_extension": ".py",
   "mimetype": "text/x-python",
   "name": "python",
   "nbconvert_exporter": "python",
   "pygments_lexer": "ipython3",
   "version": "3.12.7"
  }
 },
 "nbformat": 4,
 "nbformat_minor": 5
}
