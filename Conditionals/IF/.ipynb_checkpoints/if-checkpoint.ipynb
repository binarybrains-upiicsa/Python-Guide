{
 "cells": [
  {
   "cell_type": "markdown",
   "id": "6f81a9c9-ca82-4978-a716-9e9f63dff8d0",
   "metadata": {},
   "source": [
    "# If"
   ]
  },
  {
   "cell_type": "markdown",
   "id": "5a99fa92-a31c-4700-a072-89215e2c1204",
   "metadata": {},
   "source": [
    "Muchas veces queremos que nuestros programas hagan cosas diferentes basados en diferentes condiciones, para que pueda suceder esto, tenemos a los condicionales"
   ]
  },
  {
   "cell_type": "markdown",
   "id": "8bebd3d3-81b7-45e5-82cd-bd2b3700a5c8",
   "metadata": {},
   "source": [
    "Este es un ejemplo del IF , el programa simula el lanzamiento de una moneda"
   ]
  },
  {
   "cell_type": "code",
   "execution_count": 1,
   "id": "1fe6231e-d385-4cea-99d1-f4204e3506b9",
   "metadata": {},
   "outputs": [
    {
     "name": "stdout",
     "output_type": "stream",
     "text": [
      "Cruz\n"
     ]
    }
   ],
   "source": [
    "import random\n",
    "\n",
    "num = random.randint(0, 1)   # Genera un numero random entre 0 y 1\n",
    "\n",
    "# si num es mayor > a 0.5 \n",
    "if num > 0.5:\n",
    "  print('Cara')\n",
    "else:\n",
    "  print('Cruz')\n"
   ]
  },
  {
   "cell_type": "markdown",
   "id": "9d19ccc6-0e24-47cd-b326-e9c0c385f6b6",
   "metadata": {},
   "source": [
    "Podemos usar la función .randint() del import random para generar un número random entre un rango."
   ]
  },
  {
   "cell_type": "markdown",
   "id": "ccaeec90-d8d0-4b13-b0e3-9b5f50a70dc7",
   "metadata": {},
   "source": [
    "Corre este programa 5 veces para que veas los resultados"
   ]
  },
  {
   "cell_type": "markdown",
   "id": "07a88ed3-d602-4180-9334-2e466ab65522",
   "metadata": {},
   "source": [
    "## IF"
   ]
  },
  {
   "cell_type": "markdown",
   "id": "209ebc46-7a66-421a-904b-20ff68969a77",
   "metadata": {},
   "source": [
    "Si la condición evalua como True, el codigo en la parte del if se ejecuta.\n",
    "Si la condición evalua como False, el code se salta."
   ]
  },
  {
   "cell_type": "code",
   "execution_count": 3,
   "id": "fb9b23e5-d869-42a8-8e63-59639385005f",
   "metadata": {},
   "outputs": [
    {
     "name": "stdout",
     "output_type": "stream",
     "text": [
      "Pasaste!\n"
     ]
    }
   ],
   "source": [
    "calificacion = 9\n",
    "if calificacion > 6:\n",
    "  print(\"Pasaste!\")"
   ]
  },
  {
   "cell_type": "markdown",
   "id": "699f5b64-0124-4e0f-be97-d4386487f603",
   "metadata": {},
   "source": [
    "## ELSE"
   ]
  },
  {
   "cell_type": "markdown",
   "id": "7596aa30-f684-47b2-81b2-d07847320abc",
   "metadata": {},
   "source": [
    "Si la condición evalua como True, el codigo en la parte del if se ejecuta.\n",
    "Si la condición evalua como False,  el codigo en la parte del else se ejecuta.\n"
   ]
  },
  {
   "cell_type": "code",
   "execution_count": 4,
   "id": "98b94ca4-8a13-4d04-9d02-b18b185b76c2",
   "metadata": {},
   "outputs": [
    {
     "name": "stdout",
     "output_type": "stream",
     "text": [
      "Chin, NO PASASTE!\n"
     ]
    }
   ],
   "source": [
    "calificacion = 5.9\n",
    "if calificacion > 6:\n",
    "  print(\"Pasaste!\")\n",
    "else:\n",
    "    print(\"Chin, NO PASASTE!\")"
   ]
  },
  {
   "cell_type": "markdown",
   "id": "04898296-e1e1-4c83-ad85-42fc93aa57d7",
   "metadata": {},
   "source": [
    "## ELIF"
   ]
  },
  {
   "cell_type": "markdown",
   "id": "d3f5d7d2-ed1c-44f2-a21f-cdfa3b15d870",
   "metadata": {},
   "source": [
    "Se pueden añadir opcionalmente una o más sentencias para lo cual es mejor el uso de elif (abreviatura de \"else if\") entre if y else para proporcionar condiciones adicionales que verificar. A veces, dos no son suficientes."
   ]
  },
  {
   "cell_type": "code",
   "execution_count": 5,
   "id": "0c1e34bb-e64e-4b53-a006-727ab30d344f",
   "metadata": {},
   "outputs": [
    {
     "name": "stdout",
     "output_type": "stream",
     "text": [
      "Basic\n"
     ]
    }
   ],
   "source": [
    "ph = 10\n",
    "if ph > 7:\n",
    "  print(\"Basic\")\n",
    "elif ph < 7:\n",
    "  print(\"Acidic\")\n",
    "else:\n",
    "  print(\"Neutral\")"
   ]
  },
  {
   "cell_type": "markdown",
   "id": "d49a1472-7374-4a80-a290-a6dd74a1a6f7",
   "metadata": {},
   "source": [
    "## OPERADORES"
   ]
  },
  {
   "cell_type": "markdown",
   "id": "0f32c21a-12f5-40cc-be5f-dac3f3348a81",
   "metadata": {},
   "source": [
    "*  equal to ==\n",
    "*  not equal to !=\n",
    "*  greater than  >\n",
    "*  less than <\n",
    "*  greater than or equal to >=\n",
    "*  less than or equal to <="
   ]
  },
  {
   "cell_type": "markdown",
   "id": "2988da68-0b49-4a9d-92c7-a07e5abb6c6c",
   "metadata": {},
   "source": [
    "## Ejercicio"
   ]
  },
  {
   "cell_type": "markdown",
   "id": "e738d96b-21ab-41d5-b6ae-f47186f47018",
   "metadata": {},
   "source": [
    "Crea una bola mágica que te responda si o no a cualquier pregunta que genere un usuario de manera random"
   ]
  },
  {
   "cell_type": "code",
   "execution_count": null,
   "id": "75a71592-ced0-4a1f-8afe-4bd282493649",
   "metadata": {},
   "outputs": [],
   "source": []
  }
 ],
 "metadata": {
  "kernelspec": {
   "display_name": "Python 3 (ipykernel)",
   "language": "python",
   "name": "python3"
  },
  "language_info": {
   "codemirror_mode": {
    "name": "ipython",
    "version": 3
   },
   "file_extension": ".py",
   "mimetype": "text/x-python",
   "name": "python",
   "nbconvert_exporter": "python",
   "pygments_lexer": "ipython3",
   "version": "3.12.7"
  }
 },
 "nbformat": 4,
 "nbformat_minor": 5
}
