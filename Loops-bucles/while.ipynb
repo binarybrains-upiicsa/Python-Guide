{
 "cells": [
  {
   "cell_type": "markdown",
   "id": "2e2e6c18-cf2b-43bf-8499-4246e94c6f7f",
   "metadata": {},
   "source": [
    "# Loops - Bucles"
   ]
  },
  {
   "cell_type": "markdown",
   "id": "a62c950a-1f59-4012-8aa7-a41c7bfbd4e8",
   "metadata": {},
   "source": [
    "In programming, a loop is used to repeat a block of code until a specified condition is satisfied. It's another incredibly powerful tool that's used a ton!\n",
    "\n",
    "People will often use the generic term “iterate” when referring to loops; iterate simply means “to repeat”.\n",
    "\n",
    "The first kind of loop that we are going to learn is the while loop. You can think of the while loop like a traffic circle.\n",
    "\n",
    "Each lap is one iteration! A car will iterate over and over again until it can't do so anymore."
   ]
  },
  {
   "cell_type": "markdown",
   "id": "23072b20-c989-4573-b649-493e487ff132",
   "metadata": {},
   "source": [
    "the while loop will continue to execute the code inside of it, over and over again, as long as the condition is True."
   ]
  },
  {
   "cell_type": "code",
   "execution_count": 1,
   "id": "1568b58e-2ed2-4911-bd95-8108ca7474c4",
   "metadata": {},
   "outputs": [
    {
     "name": "stdout",
     "output_type": "stream",
     "text": [
      "BANCO DE BINARY BRAINS\n"
     ]
    },
    {
     "name": "stdin",
     "output_type": "stream",
     "text": [
      "Escribe tu PIN:  2345\n",
      "Incorrecto PIN. Escribe tu PIN otra vez: 1203\n",
      "Incorrecto PIN. Escribe tu PIN otra vez: 8903\n",
      "Incorrecto PIN. Escribe tu PIN otra vez: 1234\n"
     ]
    },
    {
     "name": "stdout",
     "output_type": "stream",
     "text": [
      "PIN aceptado!\n"
     ]
    }
   ],
   "source": [
    "print('BANCO DE BINARY BRAINS')\n",
    "\n",
    "pin = int(input('Escribe tu PIN: '))\n",
    "\n",
    "while pin != 1234:\n",
    "  pin = int(input('Incorrecto PIN. Escribe tu PIN otra vez:'))\n",
    "\n",
    "if pin == 1234:\n",
    "  print('PIN aceptado!')\n"
   ]
  },
  {
   "cell_type": "markdown",
   "id": "7405ffa2-a662-4d57-ba26-801be7ceee53",
   "metadata": {},
   "source": [
    "# EJERCICIO"
   ]
  },
  {
   "cell_type": "markdown",
   "id": "9e088093-0de7-440f-8a1d-8a7203559e1e",
   "metadata": {},
   "source": [
    "Haz un programa donde le pidas al usuario que adivine un número"
   ]
  },
  {
   "cell_type": "code",
   "execution_count": null,
   "id": "d175d1d5-1f76-4dc0-8fb1-ce8fb0c6302f",
   "metadata": {},
   "outputs": [],
   "source": []
  },
  {
   "cell_type": "code",
   "execution_count": 2,
   "id": "89d25a73-8916-492d-9619-5f216fdae489",
   "metadata": {},
   "outputs": [
    {
     "name": "stdin",
     "output_type": "stream",
     "text": [
      "Are we there yet? no\n",
      "Are we there yet? yes\n",
      "Are we there yet? Yes\n"
     ]
    },
    {
     "name": "stdout",
     "output_type": "stream",
     "text": [
      "Are we there yet? Yes\n"
     ]
    }
   ],
   "source": [
    "# Write code below 💖\n",
    "answer = str(input(\"Are we there yet?\"))\n",
    "while answer != \"Yes\":\n",
    "  answer = str(input(\"Are we there yet?\"))\n",
    "if answer == \"Yes\":\n",
    "  print(\"Are we there yet?\", answer)\n"
   ]
  },
  {
   "cell_type": "code",
   "execution_count": null,
   "id": "44ef22bb-0d3c-40ee-9d5f-867b944611f3",
   "metadata": {},
   "outputs": [],
   "source": []
  }
 ],
 "metadata": {
  "kernelspec": {
   "display_name": "Python 3 (ipykernel)",
   "language": "python",
   "name": "python3"
  },
  "language_info": {
   "codemirror_mode": {
    "name": "ipython",
    "version": 3
   },
   "file_extension": ".py",
   "mimetype": "text/x-python",
   "name": "python",
   "nbconvert_exporter": "python",
   "pygments_lexer": "ipython3",
   "version": "3.12.7"
  }
 },
 "nbformat": 4,
 "nbformat_minor": 5
}
