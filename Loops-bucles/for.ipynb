{
 "cells": [
  {
   "cell_type": "markdown",
   "id": "2f4ffce7-d26f-4af0-8536-3f6cee1d375d",
   "metadata": {},
   "source": [
    "# For"
   ]
  },
  {
   "cell_type": "markdown",
   "id": "888488c1-4d04-4a8b-8d6e-af95f2e34725",
   "metadata": {},
   "source": [
    "Set of code a specified number of times, we can use a for loop and the range() function.\n",
    "\n",
    "The range() function returns a sequence of numbers. By default, the sequence starts at 0 and increments by 1, ending at a specified number."
   ]
  },
  {
   "cell_type": "code",
   "execution_count": 1,
   "id": "7252a485-306a-4f27-80b6-f8bfa1937ed8",
   "metadata": {},
   "outputs": [
    {
     "name": "stdout",
     "output_type": "stream",
     "text": [
      "0\n",
      "1\n",
      "2\n",
      "3\n",
      "4\n",
      "5\n"
     ]
    }
   ],
   "source": [
    "for i in range(6):\n",
    "  print(i)"
   ]
  },
  {
   "cell_type": "code",
   "execution_count": 2,
   "id": "db1450c8-59c4-4b44-aa80-ceed5aabe651",
   "metadata": {},
   "outputs": [
    {
     "name": "stdout",
     "output_type": "stream",
     "text": [
      "0 Binary Brains 🧠\n",
      "1 Binary Brains 🧠\n",
      "2 Binary Brains 🧠\n",
      "3 Binary Brains 🧠\n",
      "4 Binary Brains 🧠\n",
      "5 Binary Brains 🧠\n"
     ]
    }
   ],
   "source": [
    "for i in range(6):\n",
    "    print(i ,\"Binary Brains 🧠\")"
   ]
  },
  {
   "cell_type": "markdown",
   "id": "4e85d016-4b58-4e8c-8c03-ad89ea8bff8e",
   "metadata": {},
   "source": [
    "# Ejercicio"
   ]
  },
  {
   "cell_type": "markdown",
   "id": "ba434d6d-937c-40ac-bec4-a26c387cd67e",
   "metadata": {},
   "source": [
    "FIZZ BUZZ\n",
    "\n",
    "For multiples of 3, print \"Fizz\" instead of the number.\n",
    "For multiples of 5, print \"Buzz\" instead of the number.\n",
    "Here's the tricky part: For multiples of 3 and 5, print \"FizzBuzz\"."
   ]
  },
  {
   "cell_type": "code",
   "execution_count": null,
   "id": "937f3a91-6ab6-4c28-96b6-1c72feda777d",
   "metadata": {},
   "outputs": [],
   "source": []
  },
  {
   "cell_type": "markdown",
   "id": "bc2739b7-9a83-40d0-b88e-c35abb95d404",
   "metadata": {},
   "source": [
    "## Bucles anidados"
   ]
  },
  {
   "cell_type": "code",
   "execution_count": 3,
   "id": "596c9f17-bd0e-4eac-b2e6-60f9d1cbc82c",
   "metadata": {},
   "outputs": [
    {
     "name": "stdout",
     "output_type": "stream",
     "text": [
      "1\n",
      "2\n",
      "3\n",
      "4\n",
      "5\n",
      "2\n",
      "4\n",
      "6\n",
      "8\n",
      "10\n",
      "3\n",
      "6\n",
      "9\n",
      "12\n",
      "15\n",
      "4\n",
      "8\n",
      "12\n",
      "16\n",
      "20\n",
      "5\n",
      "10\n",
      "15\n",
      "20\n",
      "25\n"
     ]
    }
   ],
   "source": [
    "for i in range(1, 6):\n",
    "  for j in range(1, 6):\n",
    "    print(i * j)"
   ]
  },
  {
   "cell_type": "code",
   "execution_count": 8,
   "id": "c5e0ce59-75cb-413b-b17a-57fa9e7f0df4",
   "metadata": {},
   "outputs": [
    {
     "name": "stdout",
     "output_type": "stream",
     "text": [
      "1\n",
      "2\n",
      "3\n",
      "4\n",
      "Yay I got my lucky number 5! 🍀\n"
     ]
    }
   ],
   "source": [
    "import random\n",
    "\n",
    "lucky_number = random.randint(1, 10)\n",
    "not_found = True\n",
    "\n",
    "while not_found:\n",
    "  for i in range(1, 10):\n",
    "    if i == lucky_number:\n",
    "      not_found = False\n",
    "      break\n",
    "    else:\n",
    "      print(i)\n",
    "print(f\"Yay I got my lucky number {lucky_number}! 🍀\")"
   ]
  },
  {
   "cell_type": "code",
   "execution_count": 11,
   "id": "73ea659a-5e8c-428a-ad19-e6768b07b58a",
   "metadata": {},
   "outputs": [
    {
     "name": "stdout",
     "output_type": "stream",
     "text": [
      "Nope (1 + 4 = 5). Reroll!\n",
      "Nope (1 + 6 = 7). Reroll!\n",
      "Nope (6 + 4 = 10). Reroll!\n",
      "Nope (4 + 2 = 6). Reroll!\n",
      "Nope (1 + 4 = 5). Reroll!\n",
      "Nope (6 + 2 = 8). Reroll!\n",
      "Nope (4 + 4 = 8). Reroll!\n",
      "Nope (4 + 5 = 9). Reroll!\n",
      "Nope (3 + 1 = 4). Reroll!\n",
      "Nope (1 + 6 = 7). Reroll!\n",
      "Snake eyes! (1 + 1 = 2)\n"
     ]
    }
   ],
   "source": [
    "import random\n",
    "\n",
    "die1 = random.randint(1, 6)\n",
    "die2 = random.randint(1, 6)\n",
    "total = die1 + die2\n",
    "\n",
    "# Mientras no sean snake eyes (2), seguimos tirando\n",
    "while total != 2:\n",
    "    print(f\"Nope ({die1} + {die2} = {total}). Reroll!\")\n",
    "    die1 = random.randint(1, 6)\n",
    "    die2 = random.randint(1, 6)\n",
    "    total = die1 + die2\n",
    "\n",
    "# Cuando total == 2 salimos del bucle\n",
    "print(f\"Snake eyes! ({die1} + {die2} = {total})\")\n"
   ]
  },
  {
   "cell_type": "code",
   "execution_count": null,
   "id": "9511f94f-e9e6-4177-8384-0114dd8d9fef",
   "metadata": {},
   "outputs": [],
   "source": []
  }
 ],
 "metadata": {
  "kernelspec": {
   "display_name": "Python 3 (ipykernel)",
   "language": "python",
   "name": "python3"
  },
  "language_info": {
   "codemirror_mode": {
    "name": "ipython",
    "version": 3
   },
   "file_extension": ".py",
   "mimetype": "text/x-python",
   "name": "python",
   "nbconvert_exporter": "python",
   "pygments_lexer": "ipython3",
   "version": "3.12.7"
  }
 },
 "nbformat": 4,
 "nbformat_minor": 5
}
