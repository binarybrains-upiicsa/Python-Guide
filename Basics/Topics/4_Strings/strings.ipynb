{
 "cells": [
  {
   "cell_type": "markdown",
   "id": "a50f3dc7",
   "metadata": {},
   "source": [
    "## Strings - Cadenas de texto 🐍 🧠"
   ]
  },
  {
   "cell_type": "markdown",
   "id": "a8bab884",
   "metadata": {},
   "source": [
    "Le conocemos a las cadenas de texto como **Strings**\n",
    "\n",
    "Esto nos ayudará a representar **texto**"
   ]
  },
  {
   "cell_type": "code",
   "execution_count": 2,
   "id": "fc6032af",
   "metadata": {},
   "outputs": [
    {
     "name": "stdout",
     "output_type": "stream",
     "text": [
      "Eduardo\n"
     ]
    }
   ],
   "source": [
    "name = 'Eduardo'\n",
    "print(name)"
   ]
  },
  {
   "cell_type": "markdown",
   "id": "670cf49d-8ef7-4de4-8910-73f5765e74f0",
   "metadata": {},
   "source": [
    "Con type(), podremos ver el tipo de dato al cual es igual la variable"
   ]
  },
  {
   "cell_type": "code",
   "execution_count": 3,
   "id": "398ba2a1",
   "metadata": {},
   "outputs": [
    {
     "name": "stdout",
     "output_type": "stream",
     "text": [
      "<class 'str'>\n"
     ]
    }
   ],
   "source": [
    "print(type(name))"
   ]
  },
  {
   "cell_type": "markdown",
   "id": "729ba50e",
   "metadata": {},
   "source": [
    "Estos al momento de visualizar el tipo de dato en código los podremos visualizar como 'str'"
   ]
  },
  {
   "cell_type": "markdown",
   "id": "fc26b15b",
   "metadata": {},
   "source": [
    "Podemos representar nuestros String con comillas dobles **\" \"** , comillas simples **' '** "
   ]
  },
  {
   "cell_type": "code",
   "execution_count": 4,
   "id": "88d5e290",
   "metadata": {},
   "outputs": [
    {
     "name": "stdout",
     "output_type": "stream",
     "text": [
      "Hola\n",
      "Pythonista 🐍\n"
     ]
    }
   ],
   "source": [
    "saludo = 'Hola'\n",
    "persona = \"Pythonista 🐍\"\n",
    "print(saludo)\n",
    "print(persona)"
   ]
  },
  {
   "cell_type": "markdown",
   "id": "abe0d1db",
   "metadata": {},
   "source": [
    "Comillas triples **''' '''** , donde estás son usadas para crear un salto de línea."
   ]
  },
  {
   "cell_type": "markdown",
   "id": "d837b147",
   "metadata": {},
   "source": [
    "Las comillas triples son sensibles a poner saltas de línea"
   ]
  },
  {
   "cell_type": "code",
   "execution_count": 5,
   "id": "33f9b48f",
   "metadata": {},
   "outputs": [],
   "source": [
    "nombre = '''Edu'''"
   ]
  },
  {
   "cell_type": "code",
   "execution_count": 6,
   "id": "a52fb070",
   "metadata": {},
   "outputs": [
    {
     "name": "stdout",
     "output_type": "stream",
     "text": [
      "Edu\n",
      "Binary Brains\n",
      "<class 'str'>\n"
     ]
    }
   ],
   "source": [
    "nombre = '''Edu\n",
    "Binary Brains'''\n",
    "print(nombre)\n",
    "print(type(nombre))"
   ]
  },
  {
   "cell_type": "code",
   "execution_count": 7,
   "id": "ed56a1f1",
   "metadata": {},
   "outputs": [
    {
     "name": "stdout",
     "output_type": "stream",
     "text": [
      "Edu\n",
      "\n",
      "\n",
      "Binary Brains\n"
     ]
    }
   ],
   "source": [
    "nombre = '''Edu\n",
    "\n",
    "\n",
    "Binary Brains'''\n",
    "print(nombre)"
   ]
  },
  {
   "cell_type": "markdown",
   "id": "ed2443fc",
   "metadata": {},
   "source": [
    "## Indexación"
   ]
  },
  {
   "cell_type": "markdown",
   "id": "30dbec75",
   "metadata": {},
   "source": [
    "Nos permitirá acceder a ciertos datos específicos de nuestras variables"
   ]
  },
  {
   "cell_type": "code",
   "execution_count": 8,
   "id": "7c05c1b8",
   "metadata": {},
   "outputs": [
    {
     "name": "stdout",
     "output_type": "stream",
     "text": [
      "E\n"
     ]
    }
   ],
   "source": [
    "nombre= 'Edu'\n",
    "print(nombre[0])"
   ]
  },
  {
   "cell_type": "code",
   "execution_count": 9,
   "id": "48edf261-d699-450c-828d-6a884e6199e2",
   "metadata": {},
   "outputs": [
    {
     "name": "stdout",
     "output_type": "stream",
     "text": [
      "u\n"
     ]
    }
   ],
   "source": [
    "print(nombre[2])"
   ]
  },
  {
   "cell_type": "code",
   "execution_count": 10,
   "id": "95826085-5433-45a3-b3eb-ef42d03d4f79",
   "metadata": {},
   "outputs": [
    {
     "name": "stdout",
     "output_type": "stream",
     "text": [
      "u\n"
     ]
    }
   ],
   "source": [
    "print(nombre[-1])"
   ]
  },
  {
   "cell_type": "code",
   "execution_count": 11,
   "id": "ca1105f0-b6ff-4177-b1b6-4895396f6643",
   "metadata": {},
   "outputs": [
    {
     "name": "stdout",
     "output_type": "stream",
     "text": [
      "Ed\n"
     ]
    }
   ],
   "source": [
    "print(nombre[:2])"
   ]
  },
  {
   "cell_type": "markdown",
   "id": "a3bf094a-35b6-48c3-8274-a4cda63561a8",
   "metadata": {},
   "source": [
    "## Concatenación"
   ]
  },
  {
   "cell_type": "markdown",
   "id": "134ff663-6ec1-4509-9405-940089734fee",
   "metadata": {},
   "source": [
    "Podemos sumar o unir cadenas de texto"
   ]
  },
  {
   "cell_type": "markdown",
   "id": "f252d0e0-2d0e-42bb-abd1-dc3ccf08fb49",
   "metadata": {},
   "source": [
    "A continuación se meustran las disntintas formas en las que podmeos concatenar nuestras cadenas de textos"
   ]
  },
  {
   "cell_type": "code",
   "execution_count": 12,
   "id": "addb5e03-4dfb-44af-9d70-44d71531efd8",
   "metadata": {},
   "outputs": [],
   "source": [
    "apellido = 'Dom'"
   ]
  },
  {
   "cell_type": "code",
   "execution_count": 13,
   "id": "045cf2ec-53ac-4402-9ac8-ebda96792ec1",
   "metadata": {},
   "outputs": [
    {
     "name": "stdout",
     "output_type": "stream",
     "text": [
      "EduDom\n"
     ]
    }
   ],
   "source": [
    "print(nombre + apellido)"
   ]
  },
  {
   "cell_type": "code",
   "execution_count": 14,
   "id": "0016f9de-e148-4b2e-980f-0d0f9502fffc",
   "metadata": {},
   "outputs": [
    {
     "name": "stdout",
     "output_type": "stream",
     "text": [
      "Edu Dom\n"
     ]
    }
   ],
   "source": [
    "print(nombre, apellido)"
   ]
  },
  {
   "cell_type": "markdown",
   "id": "45b934ed-85f1-48e7-b591-a606d880dece",
   "metadata": {},
   "source": [
    "con el uso de la coma ( , ) en la concatención podemos observar que se agrega el espacio de manera automática a diferencia de la forma anterior en la que usamos el signo de ( + )"
   ]
  },
  {
   "cell_type": "code",
   "execution_count": 15,
   "id": "fd72ae97-f82e-4a29-b1b8-462caf2529fa",
   "metadata": {},
   "outputs": [
    {
     "name": "stdout",
     "output_type": "stream",
     "text": [
      "Edu Dom\n"
     ]
    }
   ],
   "source": [
    "print(f'{nombre} {apellido}')"
   ]
  },
  {
   "cell_type": "code",
   "execution_count": 16,
   "id": "e2c6afe4-9d94-4128-a6c5-24e0beef24a7",
   "metadata": {},
   "outputs": [],
   "source": [
    "edad = 24"
   ]
  },
  {
   "cell_type": "code",
   "execution_count": 17,
   "id": "4f882a87-0ada-4b57-8977-f3bbac6c48d7",
   "metadata": {},
   "outputs": [
    {
     "name": "stdout",
     "output_type": "stream",
     "text": [
      "Hola Edu Dom , bienvenido a Binary Brains, veo que tienes 24 años\n"
     ]
    }
   ],
   "source": [
    "print(f'Hola {nombre} {apellido} , bienvenido a Binary Brains, veo que tienes {edad} años')"
   ]
  },
  {
   "cell_type": "markdown",
   "id": "73107638-8640-493f-b2b5-c34d1f93cddc",
   "metadata": {},
   "source": [
    "al utilizar el estte estilo llamado \"format\" para poder concatenar nos podemos dar cuenta que es una forma más organizada de poder concatenar nuestras cadenas de texto 🤓"
   ]
  },
  {
   "cell_type": "code",
   "execution_count": 18,
   "id": "6378fdbe-5531-4710-acb2-c1d28fd8d796",
   "metadata": {},
   "outputs": [
    {
     "name": "stdout",
     "output_type": "stream",
     "text": [
      "HolaEduDom\n"
     ]
    }
   ],
   "source": [
    "print('Hola' + nombre + apellido)"
   ]
  },
  {
   "cell_type": "markdown",
   "id": "c3f1e950-c617-4b12-8587-37d44fd0a42d",
   "metadata": {},
   "source": [
    "## Métodos a revisar"
   ]
  },
  {
   "cell_type": "markdown",
   "id": "d6c54083-382d-4911-8767-a70b461f1bc2",
   "metadata": {},
   "source": [
    ".count() \n",
    ".capitalize()\n",
    ".title() \n",
    ".swapcase() \n",
    ".replace(,) \n",
    ".split() \n",
    ".strip() \n",
    ".lstrip() \n",
    ".rstrip() \n",
    ".find()\n",
    ".index()"
   ]
  }
 ],
 "metadata": {
  "kernelspec": {
   "display_name": "Python 3 (ipykernel)",
   "language": "python",
   "name": "python3"
  },
  "language_info": {
   "codemirror_mode": {
    "name": "ipython",
    "version": 3
   },
   "file_extension": ".py",
   "mimetype": "text/x-python",
   "name": "python",
   "nbconvert_exporter": "python",
   "pygments_lexer": "ipython3",
   "version": "3.12.7"
  }
 },
 "nbformat": 4,
 "nbformat_minor": 5
}
