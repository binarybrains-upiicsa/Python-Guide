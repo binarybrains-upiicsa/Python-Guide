{
 "cells": [
  {
   "cell_type": "markdown",
   "id": "5fc35ede-ce89-4e5f-bdac-983b07d2cd36",
   "metadata": {},
   "source": [
    "Haremos un chabot con estos temas que ya vimos\n",
    "\n",
    "* variables\n",
    "* string\n",
    "* concatenación\n",
    "* output\n",
    "* input"
   ]
  },
  {
   "cell_type": "code",
   "execution_count": 3,
   "id": "5958f1e5-4c59-4a4f-9b40-90ec5921779c",
   "metadata": {},
   "outputs": [
    {
     "name": "stdout",
     "output_type": "stream",
     "text": [
      "Hola soy Binary! 🧠\n",
      "Voy a repetir todo lo que me digas.\n"
     ]
    },
    {
     "name": "stdin",
     "output_type": "stream",
     "text": [
      "Escribe algo para repetirlo:  Hola Binary Brains, bienvenidos! 🤓 ☝\n"
     ]
    },
    {
     "name": "stdout",
     "output_type": "stream",
     "text": [
      "Tu dijiste: Hola Binary Brains, bienvenidos! 🤓 ☝\n"
     ]
    }
   ],
   "source": [
    "print('Hola soy Binary! 🧠')\n",
    "print(\"Voy a repetir todo lo que me digas.\")\n",
    "mensaje = input(\"Escribe algo para repetirlo: \")\n",
    "print(f'Tu dijiste: {mensaje}')"
   ]
  },
  {
   "cell_type": "code",
   "execution_count": null,
   "id": "93527e38-c88c-4a83-acb7-bf66da6d1f3f",
   "metadata": {},
   "outputs": [],
   "source": []
  }
 ],
 "metadata": {
  "kernelspec": {
   "display_name": "Python 3 (ipykernel)",
   "language": "python",
   "name": "python3"
  },
  "language_info": {
   "codemirror_mode": {
    "name": "ipython",
    "version": 3
   },
   "file_extension": ".py",
   "mimetype": "text/x-python",
   "name": "python",
   "nbconvert_exporter": "python",
   "pygments_lexer": "ipython3",
   "version": "3.12.7"
  }
 },
 "nbformat": 4,
 "nbformat_minor": 5
}
