{
 "cells": [
  {
   "cell_type": "markdown",
   "id": "50340f8b-b9fb-48f3-8dce-3d7a6802e5d7",
   "metadata": {},
   "source": [
    "# Input 👤"
   ]
  },
  {
   "cell_type": "markdown",
   "id": "a6acffb0-4484-4076-a03b-7024df282b75",
   "metadata": {},
   "source": [
    "Ya que supimos cómo predefinir valores a nuestras variables, si quieremos que el usuario interactue con nuestro sistema, vamos a tener que permitir que ingrese ciertos valores con los que nuestros modelos o proyectos podrán funcionar y esto lo podremos hacer con la función input()"
   ]
  },
  {
   "cell_type": "markdown",
   "id": "c62e9a75-262a-4c1a-8282-d6f8fc1bbee2",
   "metadata": {},
   "source": [
    "La función input() requiere un mensaje de aviso, que se imprime para el usuario antes de que ingrese la nueva información."
   ]
  },
  {
   "cell_type": "code",
   "execution_count": null,
   "id": "cbdbe342-3342-4eb0-8bdd-06311f5fae29",
   "metadata": {},
   "outputs": [],
   "source": [
    "name = input('Ingresa tu nombre')"
   ]
  },
  {
   "cell_type": "markdown",
   "id": "3d0c99d2-cb03-4fe7-8428-d7052c3804f1",
   "metadata": {},
   "source": [
    "También podremos definir el tipo de dato que unicamente podrá ingresar el usuario con la función del tipo de dato que queremos asignarle a nuestra variable\n",
    "\n",
    "* int()    - enteros\n",
    "* str()    - strings\n",
    "* float()  - flotantes\n",
    "* bool()   - boolean\n",
    "* tuple()  - tuplas\n",
    "* list()   - listas\n",
    "* set()    - sets\n",
    "* dict()   - diccionario\n",
    "* bytes()  - bytees"
   ]
  },
  {
   "cell_type": "code",
   "execution_count": null,
   "id": "89cb782d-03f5-4816-a45d-f3188d8941a1",
   "metadata": {},
   "outputs": [],
   "source": [
    "edad = int(input('Ingresa tu edad'))"
   ]
  },
  {
   "cell_type": "markdown",
   "id": "9ad62535-c494-4e17-bab1-839a2acafc01",
   "metadata": {},
   "source": [
    "si el usuario quiere agregar un dato que no es del tipo anteriormente definido mandará error"
   ]
  },
  {
   "cell_type": "code",
   "execution_count": null,
   "id": "11cab9d6-25d2-4df6-bd83-01eec71ada7a",
   "metadata": {},
   "outputs": [],
   "source": [
    "edad = int(input('Ingresa tu edad'))"
   ]
  },
  {
   "cell_type": "code",
   "execution_count": null,
   "id": "82326e62-a433-4e82-850b-22181f68590f",
   "metadata": {},
   "outputs": [],
   "source": [
    "print('Hola', name, 'tu edad es ' , edad , 'ya aprendiste a usar input')"
   ]
  },
  {
   "cell_type": "markdown",
   "id": "57447265-a587-47ef-a1a2-65f7f7332174",
   "metadata": {},
   "source": [
    "## Ejercicio"
   ]
  },
  {
   "cell_type": "markdown",
   "id": "4203c7af-7b72-4561-94a5-90543975080b",
   "metadata": {},
   "source": [
    "Pide a al usuario que te de los datos para la fórmula de teorema de Pitágoras"
   ]
  },
  {
   "attachments": {
    "9bb0cfd0-e266-4fe0-8777-f03c3a44ccbe.png": {
     "image/png": "[encoded data removed]"
    }
   },
   "cell_type": "markdown",
   "id": "39caf04b-5a6d-4e7f-ae86-882518081681",
   "metadata": {},
   "source": [
    "![image.png](attachment:9bb0cfd0-e266-4fe0-8777-f03c3a44ccbe.png)"
   ]
  },
  {
   "cell_type": "code",
   "execution_count": null,
   "id": "f1c376b0-76e2-4259-99b0-7c02d2820622",
   "metadata": {},
   "outputs": [],
   "source": []
  }
 ],
 "metadata": {
  "kernelspec": {
   "display_name": "Python 3 (ipykernel)",
   "language": "python",
   "name": "python3"
  },
  "language_info": {
   "codemirror_mode": {
    "name": "ipython",
    "version": 3
   },
   "file_extension": ".py",
   "mimetype": "text/x-python",
   "name": "python",
   "nbconvert_exporter": "python",
   "pygments_lexer": "ipython3",
   "version": "3.12.7"
  }
 },
 "nbformat": 4,
 "nbformat_minor": 5
}
