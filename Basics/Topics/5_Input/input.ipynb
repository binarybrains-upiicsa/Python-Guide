{
 "cells": [
  {
   "cell_type": "markdown",
   "id": "50340f8b-b9fb-48f3-8dce-3d7a6802e5d7",
   "metadata": {},
   "source": [
    "# Input 👤"
   ]
  },
  {
   "cell_type": "markdown",
   "id": "a6acffb0-4484-4076-a03b-7024df282b75",
   "metadata": {},
   "source": [
    "Ya que supimos cómo predefinir valores a nuestras variables, si quieremos que el usuario interactue con nuestro sistema, vamos a tener que permitir que ingrese ciertos valores con los que nuestros modelos o proyectos podrán funcionar y esto lo podremos hacer con la función input()"
   ]
  },
  {
   "cell_type": "markdown",
   "id": "c62e9a75-262a-4c1a-8282-d6f8fc1bbee2",
   "metadata": {},
   "source": [
    "La función input() requiere un mensaje de aviso, que se imprime para el usuario antes de que ingrese la nueva información."
   ]
  },
  {
   "cell_type": "code",
   "execution_count": 1,
   "id": "cbdbe342-3342-4eb0-8bdd-06311f5fae29",
   "metadata": {},
   "outputs": [
    {
     "name": "stdin",
     "output_type": "stream",
     "text": [
      "Ingresa tu nombre Eduardo\n"
     ]
    }
   ],
   "source": [
    "name = input('Ingresa tu nombre')"
   ]
  },
  {
   "cell_type": "markdown",
   "id": "3d0c99d2-cb03-4fe7-8428-d7052c3804f1",
   "metadata": {},
   "source": [
    "También podremos definir el tipo de dato que unicamente podrá ingresar el usuario con la función del tipo de dato que queremos asignarle a nuestra variable\n",
    "\n",
    "* int()    - enteros\n",
    "* str()    - strings\n",
    "* float()  - flotantes\n",
    "* bool()   - boolean\n",
    "* tuple()  - tuplas\n",
    "* list()   - listas\n",
    "* set()    - sets\n",
    "* dict()   - diccionario\n",
    "* bytes()  - bytees"
   ]
  },
  {
   "cell_type": "code",
   "execution_count": 2,
   "id": "55bfde55-17f4-41bc-87c6-a6278de9f412",
   "metadata": {},
   "outputs": [
    {
     "name": "stdin",
     "output_type": "stream",
     "text": [
      "Ingresa tu edad hola\n"
     ]
    },
    {
     "ename": "ValueError",
     "evalue": "invalid literal for int() with base 10: 'hola'",
     "output_type": "error",
     "traceback": [
      "\u001b[0;31m---------------------------------------------------------------------------\u001b[0m",
      "\u001b[0;31mValueError\u001b[0m                                Traceback (most recent call last)",
      "Cell \u001b[0;32mIn[2], line 1\u001b[0m\n\u001b[0;32m----> 1\u001b[0m edad \u001b[38;5;241m=\u001b[39m \u001b[38;5;28mint\u001b[39m(\u001b[38;5;28minput\u001b[39m(\u001b[38;5;124m'\u001b[39m\u001b[38;5;124mIngresa tu edad\u001b[39m\u001b[38;5;124m'\u001b[39m))\n",
      "\u001b[0;31mValueError\u001b[0m: invalid literal for int() with base 10: 'hola'"
     ]
    }
   ],
   "source": [
    "edad = int(input('Ingresa tu edad'))"
   ]
  },
  {
   "cell_type": "markdown",
   "id": "9ad62535-c494-4e17-bab1-839a2acafc01",
   "metadata": {},
   "source": [
    "si el usuario quiere agregar un dato que no es del tipo anteriormente definido mandará error"
   ]
  },
  {
   "cell_type": "code",
   "execution_count": 3,
   "id": "11cab9d6-25d2-4df6-bd83-01eec71ada7a",
   "metadata": {},
   "outputs": [
    {
     "name": "stdin",
     "output_type": "stream",
     "text": [
      "Ingresa tu edad 24\n"
     ]
    }
   ],
   "source": [
    "edad = int(input('Ingresa tu edad'))"
   ]
  },
  {
   "cell_type": "code",
   "execution_count": 4,
   "id": "82326e62-a433-4e82-850b-22181f68590f",
   "metadata": {},
   "outputs": [
    {
     "name": "stdout",
     "output_type": "stream",
     "text": [
      "Hola Eduardo tu edad es  24 ya aprendiste a usar input\n"
     ]
    }
   ],
   "source": [
    "print('Hola', name, 'tu edad es ' , edad , 'ya aprendiste a usar input')"
   ]
  },
  {
   "cell_type": "code",
   "execution_count": null,
   "id": "83dd33eb-4d4f-40b4-86e8-0e8714aeffff",
   "metadata": {},
   "outputs": [],
   "source": []
  }
 ],
 "metadata": {
  "kernelspec": {
   "display_name": "Python 3 (ipykernel)",
   "language": "python",
   "name": "python3"
  },
  "language_info": {
   "codemirror_mode": {
    "name": "ipython",
    "version": 3
   },
   "file_extension": ".py",
   "mimetype": "text/x-python",
   "name": "python",
   "nbconvert_exporter": "python",
   "pygments_lexer": "ipython3",
   "version": "3.12.7"
  }
 },
 "nbformat": 4,
 "nbformat_minor": 5
}
