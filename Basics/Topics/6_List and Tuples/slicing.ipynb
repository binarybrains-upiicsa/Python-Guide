{
 "cells": [
  {
   "cell_type": "markdown",
   "id": "56e5c6aa",
   "metadata": {},
   "source": [
    "# Slicing"
   ]
  },
  {
   "cell_type": "markdown",
   "id": "6d3b691a",
   "metadata": {},
   "source": [
    "Cuando queremos copiar la información de una variable que almacena una lista ,en una variable nueva , no solo estamos copiando los datos que contiene esa lista , si no ,también el espacio de memoria donde se encuentra esta, para evitar esto y manejarlo de la manera adecuada existe el \"Slicing\"."
   ]
  },
  {
   "cell_type": "code",
   "execution_count": null,
   "id": "a4de9547",
   "metadata": {},
   "outputs": [
    {
     "name": "stdout",
     "output_type": "stream",
     "text": [
      "[1, 2, 32, 121, 30, 20]\n",
      "[1, 2, 32, 121, 30, 20]\n",
      "4450297280\n",
      "4450297280\n",
      "[1, 2, 32, 121, 30, 20]\n",
      "4448148864\n"
     ]
    }
   ],
   "source": [
    "a = [1,2,32,121,30,20]\n",
    "b = a\n",
    "print(a)\n",
    "print(b)\n",
    "\n",
    "# La función id nos devuelve la dirección de memoria de la variable\n",
    "# En este caso, a y b apuntan a la misma dirección de memoria \n",
    "print(id(a))\n",
    "print(id(b))\n",
    "\n",
    "\n",
    "\n",
    "# estamos copiando la lista a en la variable c\n",
    "# por lo que c apuntará a otra dirección de memoria\n",
    "c = a[:]\n",
    "print(c)\n",
    "print(id(c))"
   ]
  }
 ],
 "metadata": {
  "kernelspec": {
   "display_name": "base",
   "language": "python",
   "name": "python3"
  },
  "language_info": {
   "codemirror_mode": {
    "name": "ipython",
    "version": 3
   },
   "file_extension": ".py",
   "mimetype": "text/x-python",
   "name": "python",
   "nbconvert_exporter": "python",
   "pygments_lexer": "ipython3",
   "version": "3.12.7"
  }
 },
 "nbformat": 4,
 "nbformat_minor": 5
}
