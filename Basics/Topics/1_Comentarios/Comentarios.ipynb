{
 "cells": [
  {
   "cell_type": "markdown",
   "id": "b79b58d9-3ceb-4268-9150-70b084c7c68a",
   "metadata": {},
   "source": [
    "# Comentario"
   ]
  },
  {
   "cell_type": "markdown",
   "id": "fc7b926b-3a7e-49ea-a2b7-1991de125128",
   "metadata": {},
   "source": [
    "Estos son un par de funcionalidades para las cuales sirve comentar nuestro código\n",
    "\n",
    "* Los comentarios pueden dar mayor contexto acerca de lo que estamos codeando\n",
    "* Ayuda a otras personas que leen nuestro código a entender más fácilmente\n",
    "* Ignoran lineas de código y hacen que no se ejecuten"
   ]
  },
  {
   "cell_type": "code",
   "execution_count": 3,
   "id": "0c0a64e3-4626-47bc-9d80-436d726dfc00",
   "metadata": {},
   "outputs": [
    {
     "name": "stdout",
     "output_type": "stream",
     "text": [
      "Hola Mundo\n"
     ]
    }
   ],
   "source": [
    "# Este es un comentario para una sola línea\n",
    "print(\"Hola Mundo\")"
   ]
  },
  {
   "cell_type": "code",
   "execution_count": 4,
   "id": "680471c7-11a2-425e-ba60-d4fc4d71441e",
   "metadata": {},
   "outputs": [
    {
     "name": "stdout",
     "output_type": "stream",
     "text": [
      "Este es otro tipo de comentario\n"
     ]
    }
   ],
   "source": [
    "'''\n",
    "Este es un comentario largo que puede abarcar grandes partes de nuestro codigo \n",
    "'''\n",
    "print(\"Este es otro tipo de comentario\")"
   ]
  },
  {
   "cell_type": "code",
   "execution_count": null,
   "id": "450bc208-e1d0-4de1-b6d7-1e7dad9f5ad9",
   "metadata": {},
   "outputs": [],
   "source": []
  }
 ],
 "metadata": {
  "kernelspec": {
   "display_name": "Python 3 (ipykernel)",
   "language": "python",
   "name": "python3"
  },
  "language_info": {
   "codemirror_mode": {
    "name": "ipython",
    "version": 3
   },
   "file_extension": ".py",
   "mimetype": "text/x-python",
   "name": "python",
   "nbconvert_exporter": "python",
   "pygments_lexer": "ipython3",
   "version": "3.12.7"
  }
 },
 "nbformat": 4,
 "nbformat_minor": 5
}
