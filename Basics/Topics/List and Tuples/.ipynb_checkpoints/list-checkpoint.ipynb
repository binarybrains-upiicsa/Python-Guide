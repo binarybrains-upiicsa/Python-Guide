{
 "cells": [
  {
   "cell_type": "markdown",
   "id": "1084c217-cdc4-449e-a2ba-596b05151b2d",
   "metadata": {},
   "source": [
    "# List"
   ]
  },
  {
   "cell_type": "code",
   "execution_count": 2,
   "id": "e268b094-1108-4cd1-a1fc-ce5d4a72e973",
   "metadata": {},
   "outputs": [],
   "source": [
    "nombres = ['edu','abril','rodolfo','mauricio']"
   ]
  },
  {
   "cell_type": "code",
   "execution_count": 3,
   "id": "da300cdb-fc76-48b1-95fa-5b0704730931",
   "metadata": {},
   "outputs": [
    {
     "data": {
      "text/plain": [
       "list"
      ]
     },
     "execution_count": 3,
     "metadata": {},
     "output_type": "execute_result"
    }
   ],
   "source": [
    "type(nombres)"
   ]
  },
  {
   "cell_type": "code",
   "execution_count": 4,
   "id": "9edf8068-b87a-4ace-a891-12903cf1dd47",
   "metadata": {},
   "outputs": [
    {
     "data": {
      "text/plain": [
       "'abril'"
      ]
     },
     "execution_count": 4,
     "metadata": {},
     "output_type": "execute_result"
    }
   ],
   "source": [
    "nombres[1]"
   ]
  },
  {
   "cell_type": "markdown",
   "id": "18489a10-0827-4ebb-9e99-866e6db8917e",
   "metadata": {},
   "source": [
    "Las listas si son mutables, lo que significa que si pueden cambiar de valor."
   ]
  },
  {
   "cell_type": "markdown",
   "id": "207fa7fa-b0a9-4896-8fbf-521eb61bc2a1",
   "metadata": {},
   "source": [
    "Vamos a cambiar de valor a \"mauricio\" por \"Snorlax\""
   ]
  },
  {
   "cell_type": "code",
   "execution_count": 5,
   "id": "c0fe1b09-77b3-4159-8884-9f4409d1d911",
   "metadata": {},
   "outputs": [],
   "source": [
    "nombres[3]= 'Snorlax'"
   ]
  },
  {
   "cell_type": "code",
   "execution_count": 6,
   "id": "9d872372-6a52-48f6-9709-0d14537d6fa9",
   "metadata": {},
   "outputs": [
    {
     "data": {
      "text/plain": [
       "['edu', 'abril', 'rodolfo', 'Snorlax', 24, 24, 25, 40]"
      ]
     },
     "execution_count": 6,
     "metadata": {},
     "output_type": "execute_result"
    }
   ],
   "source": [
    "nombres"
   ]
  },
  {
   "cell_type": "code",
   "execution_count": null,
   "id": "b509316a-387e-4b86-883a-d78ccf5b5e49",
   "metadata": {},
   "outputs": [],
   "source": []
  }
 ],
 "metadata": {
  "kernelspec": {
   "display_name": "Python 3 (ipykernel)",
   "language": "python",
   "name": "python3"
  },
  "language_info": {
   "codemirror_mode": {
    "name": "ipython",
    "version": 3
   },
   "file_extension": ".py",
   "mimetype": "text/x-python",
   "name": "python",
   "nbconvert_exporter": "python",
   "pygments_lexer": "ipython3",
   "version": "3.12.7"
  }
 },
 "nbformat": 4,
 "nbformat_minor": 5
}
