{
 "cells": [
  {
   "cell_type": "markdown",
   "id": "cdd4d110-1ab3-4930-a58a-f7ce0b1646ae",
   "metadata": {},
   "source": [
    "# Tuples"
   ]
  },
  {
   "cell_type": "code",
   "execution_count": 7,
   "id": "1902efb0-4fae-4425-8e1d-13e4ebbbf365",
   "metadata": {},
   "outputs": [
    {
     "data": {
      "text/plain": [
       "tuple"
      ]
     },
     "execution_count": 7,
     "metadata": {},
     "output_type": "execute_result"
    }
   ],
   "source": [
    "edad= (2,3,4,5,0,20,12,40,30,7)\n",
    "type(edad)"
   ]
  },
  {
   "cell_type": "code",
   "execution_count": 18,
   "id": "abd2d107-2d45-4bf9-ab46-9c776b3baec6",
   "metadata": {},
   "outputs": [],
   "source": [
    "valores= (23,40,10,234,10)"
   ]
  },
  {
   "cell_type": "markdown",
   "id": "5d8f13e0-dc4c-441a-a516-16d04aca2e8a",
   "metadata": {},
   "source": [
    "Vamos a poder concatenar tuplas, lo que significa que se podrán unir entre si"
   ]
  },
  {
   "cell_type": "code",
   "execution_count": 19,
   "id": "efa0b498-8c7f-4997-9f91-2146c5fe0955",
   "metadata": {},
   "outputs": [],
   "source": [
    "concatenar = valores + edad"
   ]
  },
  {
   "cell_type": "code",
   "execution_count": 20,
   "id": "0933b64c-4184-42cc-9e13-ee6115046ef9",
   "metadata": {},
   "outputs": [
    {
     "data": {
      "text/plain": [
       "(23, 40, 10, 234, 10, 2, 3, 4, 5, 0, 20, 12, 40, 30, 7)"
      ]
     },
     "execution_count": 20,
     "metadata": {},
     "output_type": "execute_result"
    }
   ],
   "source": [
    "concatenar"
   ]
  },
  {
   "cell_type": "markdown",
   "id": "b3b71211-0b2b-4d25-aea4-60677ab743ae",
   "metadata": {},
   "source": [
    "Son inmutables, lo que significa que no pueden cambiar de valor, aquí un ejemplo:"
   ]
  },
  {
   "cell_type": "markdown",
   "id": "74f15963-bc88-4466-b2be-b6a8cd7277d2",
   "metadata": {},
   "source": [
    "al querer cambiar de valor al dato en el index1 de nuestra tupla \"valores\", no lo permitirá."
   ]
  },
  {
   "cell_type": "code",
   "execution_count": 21,
   "id": "1a8966a4-17f8-467c-bd71-127c6658b87d",
   "metadata": {},
   "outputs": [
    {
     "ename": "TypeError",
     "evalue": "'tuple' object does not support item assignment",
     "output_type": "error",
     "traceback": [
      "\u001b[0;31m---------------------------------------------------------------------------\u001b[0m",
      "\u001b[0;31mTypeError\u001b[0m                                 Traceback (most recent call last)",
      "Cell \u001b[0;32mIn[21], line 1\u001b[0m\n\u001b[0;32m----> 1\u001b[0m valores[\u001b[38;5;241m1\u001b[39m] \u001b[38;5;241m=\u001b[39m \u001b[38;5;124m'\u001b[39m\u001b[38;5;124mhola\u001b[39m\u001b[38;5;124m'\u001b[39m\n",
      "\u001b[0;31mTypeError\u001b[0m: 'tuple' object does not support item assignment"
     ]
    }
   ],
   "source": [
    "valores[1] = 'hola'"
   ]
  },
  {
   "cell_type": "code",
   "execution_count": 6,
   "id": "008e3365-ff44-4504-92e8-558e3bdf24ff",
   "metadata": {},
   "outputs": [
    {
     "data": {
      "text/plain": [
       "3"
      ]
     },
     "execution_count": 6,
     "metadata": {},
     "output_type": "execute_result"
    }
   ],
   "source": [
    "edad[1]"
   ]
  },
  {
   "cell_type": "code",
   "execution_count": 8,
   "id": "aaa9aca6-dbbb-48d2-ae94-a2e8cf6f9171",
   "metadata": {},
   "outputs": [
    {
     "data": {
      "text/plain": [
       "[0, 2, 3, 4, 5, 7, 12, 20, 30, 40]"
      ]
     },
     "execution_count": 8,
     "metadata": {},
     "output_type": "execute_result"
    }
   ],
   "source": [
    "sorted(edad)"
   ]
  },
  {
   "cell_type": "markdown",
   "id": "c9825ba4-268a-48df-ae7d-91a4826a2b49",
   "metadata": {},
   "source": [
    "## Nesting"
   ]
  },
  {
   "cell_type": "markdown",
   "id": "da44dfa8-9082-47f3-b367-a417560c243a",
   "metadata": {},
   "source": [
    "Vamos a concer como nesting a la cantidad de tuplas dentro de otras tuplas"
   ]
  },
  {
   "cell_type": "code",
   "execution_count": 10,
   "id": "f2626125-7488-4e85-a8b8-6e435726b9f4",
   "metadata": {},
   "outputs": [],
   "source": [
    "tuplas = (2,24,('eduardo','mario'),'apple',(20,80,30))"
   ]
  },
  {
   "cell_type": "markdown",
   "id": "b5ed5741-e3e5-45f4-ab07-0ba068a5f96f",
   "metadata": {},
   "source": [
    "Así mismo podremos accesar a los valores de la tuple"
   ]
  },
  {
   "cell_type": "code",
   "execution_count": 17,
   "id": "0480dd09-da53-41c9-a17c-da318e958465",
   "metadata": {},
   "outputs": [
    {
     "data": {
      "text/plain": [
       "('eduardo', 'mario')"
      ]
     },
     "execution_count": 17,
     "metadata": {},
     "output_type": "execute_result"
    }
   ],
   "source": [
    "tuplas[2]"
   ]
  },
  {
   "cell_type": "code",
   "execution_count": 15,
   "id": "74dde22f-86a9-425e-a00c-1f880e29e6b7",
   "metadata": {},
   "outputs": [
    {
     "data": {
      "text/plain": [
       "'eduardo'"
      ]
     },
     "execution_count": 15,
     "metadata": {},
     "output_type": "execute_result"
    }
   ],
   "source": [
    "tuplas[2][0]"
   ]
  },
  {
   "cell_type": "code",
   "execution_count": 16,
   "id": "7e9f984f-f683-41a2-8e26-c9b2ed65ecf1",
   "metadata": {},
   "outputs": [
    {
     "data": {
      "text/plain": [
       "(20, 80, 30)"
      ]
     },
     "execution_count": 16,
     "metadata": {},
     "output_type": "execute_result"
    }
   ],
   "source": [
    "tuplas[-1]"
   ]
  },
  {
   "cell_type": "code",
   "execution_count": null,
   "id": "f3bfa2ba-d444-4742-b712-ce0c4378d05b",
   "metadata": {},
   "outputs": [],
   "source": []
  }
 ],
 "metadata": {
  "kernelspec": {
   "display_name": "Python 3 (ipykernel)",
   "language": "python",
   "name": "python3"
  },
  "language_info": {
   "codemirror_mode": {
    "name": "ipython",
    "version": 3
   },
   "file_extension": ".py",
   "mimetype": "text/x-python",
   "name": "python",
   "nbconvert_exporter": "python",
   "pygments_lexer": "ipython3",
   "version": "3.12.7"
  }
 },
 "nbformat": 4,
 "nbformat_minor": 5
}
