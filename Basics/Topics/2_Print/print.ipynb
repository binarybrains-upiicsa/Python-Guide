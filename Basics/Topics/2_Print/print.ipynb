{
 "cells": [
  {
   "cell_type": "markdown",
   "id": "c0f7b5dd-5c74-40d4-af48-307cad690a20",
   "metadata": {},
   "source": [
    "# Print"
   ]
  },
  {
   "cell_type": "markdown",
   "id": "9bf2b76e-cdd8-40c1-aa3a-1923b1e71414",
   "metadata": {},
   "source": [
    "La función **print** es usada para representar como salida o resultado de nuestro programa un mensaje"
   ]
  },
  {
   "cell_type": "code",
   "execution_count": 1,
   "id": "972d778a-2b7e-41db-a211-3324cdb0d49b",
   "metadata": {},
   "outputs": [
    {
     "name": "stdout",
     "output_type": "stream",
     "text": [
      "Hola Mundo con comillas simples\n"
     ]
    }
   ],
   "source": [
    "print('Hola Mundo con comillas simples')"
   ]
  },
  {
   "cell_type": "code",
   "execution_count": 2,
   "id": "8dbb9b81-93d4-485a-94d1-5524262be1ef",
   "metadata": {},
   "outputs": [
    {
     "name": "stdout",
     "output_type": "stream",
     "text": [
      "Hola Mundo con doble comillas\n"
     ]
    }
   ],
   "source": [
    "print(\"Hola Mundo con doble comillas\")"
   ]
  },
  {
   "cell_type": "markdown",
   "id": "527872ce-d22d-4fcc-9a2f-21c2f46306ea",
   "metadata": {},
   "source": [
    "Como pudiste ver, podemos realizar un print con comillas dobles y comillas simples para representar en donde estará nuestro mensaje."
   ]
  }
 ],
 "metadata": {
  "kernelspec": {
   "display_name": "Python 3 (ipykernel)",
   "language": "python",
   "name": "python3"
  },
  "language_info": {
   "codemirror_mode": {
    "name": "ipython",
    "version": 3
   },
   "file_extension": ".py",
   "mimetype": "text/x-python",
   "name": "python",
   "nbconvert_exporter": "python",
   "pygments_lexer": "ipython3",
   "version": "3.12.7"
  }
 },
 "nbformat": 4,
 "nbformat_minor": 5
}
