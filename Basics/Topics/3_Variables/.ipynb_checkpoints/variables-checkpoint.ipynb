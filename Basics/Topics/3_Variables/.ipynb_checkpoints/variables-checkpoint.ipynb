{
 "cells": [
  {
   "cell_type": "markdown",
   "id": "9c579231-1cb6-46af-b727-096645fc9707",
   "metadata": {},
   "source": [
    "# Variables 🤓"
   ]
  },
  {
   "cell_type": "markdown",
   "id": "12d34163-3783-41be-bf97-a0864d31dfc0",
   "metadata": {},
   "source": [
    "Para representar un valor como podría llegar a ser un texto, un número, una fecha, lo que sea, los lenguajes de programación nos permiten poder almacenar o gardar estos datos en un espacio de memoria y usarlos de diversar formas, para eso funcionan las variables."
   ]
  },
  {
   "cell_type": "markdown",
   "id": "b5dfa08e-4738-4414-89b7-bcd3dab27689",
   "metadata": {},
   "source": [
    "Si queremos representar una variables en python asignamos el nombre de la variable y seguida de un el signo igual (=)"
   ]
  },
  {
   "cell_type": "code",
   "execution_count": 1,
   "id": "0354ecf2-6570-4af2-a08f-a0be9966c2f2",
   "metadata": {},
   "outputs": [],
   "source": [
    "nombre = 'edu'"
   ]
  },
  {
   "cell_type": "code",
   "execution_count": 2,
   "id": "6d3da253-575d-4627-a6ca-0c4edc4a96a6",
   "metadata": {},
   "outputs": [
    {
     "name": "stdout",
     "output_type": "stream",
     "text": [
      "edu\n"
     ]
    }
   ],
   "source": [
    "print(nombre)"
   ]
  },
  {
   "cell_type": "code",
   "execution_count": 3,
   "id": "64cf56af-64b2-4112-ac9b-11184310a760",
   "metadata": {},
   "outputs": [],
   "source": [
    "edad = 24"
   ]
  },
  {
   "cell_type": "code",
   "execution_count": 4,
   "id": "6d83b6d5-ee43-43b6-8913-305665ae188f",
   "metadata": {},
   "outputs": [
    {
     "name": "stdout",
     "output_type": "stream",
     "text": [
      "24\n"
     ]
    }
   ],
   "source": [
    "print(edad)"
   ]
  },
  {
   "cell_type": "code",
   "execution_count": 5,
   "id": "2f030f86-553a-4b14-877f-df86e1f3055e",
   "metadata": {},
   "outputs": [],
   "source": [
    "calificacion = 9.9"
   ]
  },
  {
   "cell_type": "code",
   "execution_count": 6,
   "id": "3efc1946-c930-4bb9-b4f1-b25f1c99a098",
   "metadata": {},
   "outputs": [
    {
     "name": "stdout",
     "output_type": "stream",
     "text": [
      "9.9\n"
     ]
    }
   ],
   "source": [
    "print(calificacion)"
   ]
  },
  {
   "cell_type": "markdown",
   "id": "580b8a16-9ba8-49e4-b4cb-969b4149e57c",
   "metadata": {},
   "source": [
    "Cuando tienes un número como valor en una variable y quieres añadirle un valor continuo de una variable , puedes usar += "
   ]
  },
  {
   "cell_type": "code",
   "execution_count": 7,
   "id": "fc0c48f9-0cf1-4c34-b87a-743d8e2dd0a7",
   "metadata": {},
   "outputs": [
    {
     "name": "stdout",
     "output_type": "stream",
     "text": [
      "50.0\n",
      "89.0\n",
      "The total price is 109.0\n"
     ]
    }
   ],
   "source": [
    "# valor inicial de la variable\n",
    "total_price = 0\n",
    "\n",
    "# valores de datos iniciales\n",
    "new_sneakers = 50.00\n",
    "nice_sweater = 39.00\n",
    "fun_books = 20.00\n",
    "\n",
    "# el valor de total_price se le sumará el valor de new_sneakers\n",
    "total_price += new_sneakers \n",
    "print(total_price)\n",
    "# el valor de total_price ahora actualizado se le sumará el valor de nice_sweater\n",
    "total_price += nice_sweater\n",
    "print(total_price)\n",
    "# el valor de total_price ahora actualizado se le sumará el valor de fun_books\n",
    "total_price += fun_books\n",
    "print(\"The total price is\", total_price)"
   ]
  },
  {
   "cell_type": "code",
   "execution_count": null,
   "id": "cbc36b61-d735-40f2-87b3-c09a8a80f908",
   "metadata": {},
   "outputs": [],
   "source": []
  }
 ],
 "metadata": {
  "kernelspec": {
   "display_name": "Python 3 (ipykernel)",
   "language": "python",
   "name": "python3"
  },
  "language_info": {
   "codemirror_mode": {
    "name": "ipython",
    "version": 3
   },
   "file_extension": ".py",
   "mimetype": "text/x-python",
   "name": "python",
   "nbconvert_exporter": "python",
   "pygments_lexer": "ipython3",
   "version": "3.12.7"
  }
 },
 "nbformat": 4,
 "nbformat_minor": 5
}
