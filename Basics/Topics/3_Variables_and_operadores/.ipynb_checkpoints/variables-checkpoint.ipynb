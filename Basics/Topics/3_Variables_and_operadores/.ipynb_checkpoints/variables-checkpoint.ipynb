{
 "cells": [
  {
   "cell_type": "markdown",
   "id": "9c579231-1cb6-46af-b727-096645fc9707",
   "metadata": {},
   "source": [
    "# Variables y operadores 🤓"
   ]
  },
  {
   "cell_type": "markdown",
   "id": "12d34163-3783-41be-bf97-a0864d31dfc0",
   "metadata": {},
   "source": [
    "Para representar un valor como podría llegar a ser un texto, un número, una fecha, lo que sea, los lenguajes de programación nos permiten poder almacenar o gardar estos datos en un espacio de memoria y usarlos de diversar formas, para eso funcionan las variables."
   ]
  },
  {
   "cell_type": "markdown",
   "id": "b5dfa08e-4738-4414-89b7-bcd3dab27689",
   "metadata": {},
   "source": [
    "Si queremos representar una variables en python asignamos el nombre de la variable y seguida de un el signo igual (=)"
   ]
  },
  {
   "cell_type": "markdown",
   "id": "af2c235f-4633-4e23-babf-bd1b8087a3b2",
   "metadata": {},
   "source": [
    "En programación, las variables se utilizan para almacenar valores de datos. Cada variable tiene un nombre y contiene un valor."
   ]
  },
  {
   "cell_type": "markdown",
   "id": "b7ee1358-4f7d-4b6b-85e8-37fc1e95bdf5",
   "metadata": {},
   "source": [
    "## Tipos de variables"
   ]
  },
  {
   "cell_type": "markdown",
   "id": "669565fa-18f0-431b-9ee9-d2c41a298028",
   "metadata": {},
   "source": [
    "* Integer - son números enteros sin punto decimal\n",
    "* Float - números decimales \n",
    "* String - texto\n",
    "* Boolean - valores como TRUE o FALSE"
   ]
  },
  {
   "cell_type": "markdown",
   "id": "87c79903-cb79-413d-93a2-3dbd2d6d5ee3",
   "metadata": {},
   "source": [
    "Bool"
   ]
  },
  {
   "cell_type": "code",
   "execution_count": 1,
   "id": "7ef0fbd9-0453-47ed-af16-aeaa172148cc",
   "metadata": {},
   "outputs": [
    {
     "name": "stdout",
     "output_type": "stream",
     "text": [
      "<class 'bool'>\n"
     ]
    }
   ],
   "source": [
    "late_to_class = False\n",
    "cranky = True\n",
    "print(type(cranky))"
   ]
  },
  {
   "cell_type": "markdown",
   "id": "e5f4ad6b-8390-4c9a-ab09-4d643185a416",
   "metadata": {},
   "source": [
    "String"
   ]
  },
  {
   "cell_type": "code",
   "execution_count": 2,
   "id": "0354ecf2-6570-4af2-a08f-a0be9966c2f2",
   "metadata": {},
   "outputs": [],
   "source": [
    "nombre = 'edu'"
   ]
  },
  {
   "cell_type": "code",
   "execution_count": 3,
   "id": "6d3da253-575d-4627-a6ca-0c4edc4a96a6",
   "metadata": {},
   "outputs": [
    {
     "name": "stdout",
     "output_type": "stream",
     "text": [
      "edu\n"
     ]
    }
   ],
   "source": [
    "print(nombre)"
   ]
  },
  {
   "cell_type": "markdown",
   "id": "8bc2f1e3-b77b-474a-9e36-567a7963badf",
   "metadata": {},
   "source": [
    "Integer"
   ]
  },
  {
   "cell_type": "code",
   "execution_count": 4,
   "id": "64cf56af-64b2-4112-ac9b-11184310a760",
   "metadata": {},
   "outputs": [],
   "source": [
    "edad = 24"
   ]
  },
  {
   "cell_type": "code",
   "execution_count": 5,
   "id": "6d83b6d5-ee43-43b6-8913-305665ae188f",
   "metadata": {},
   "outputs": [
    {
     "name": "stdout",
     "output_type": "stream",
     "text": [
      "24\n"
     ]
    }
   ],
   "source": [
    "print(edad)"
   ]
  },
  {
   "cell_type": "markdown",
   "id": "fbed1cc2-1718-4350-b011-cb1c4449bbff",
   "metadata": {},
   "source": [
    "Float"
   ]
  },
  {
   "cell_type": "code",
   "execution_count": 6,
   "id": "2f030f86-553a-4b14-877f-df86e1f3055e",
   "metadata": {},
   "outputs": [],
   "source": [
    "calificacion = 9.9"
   ]
  },
  {
   "cell_type": "code",
   "execution_count": 7,
   "id": "3efc1946-c930-4bb9-b4f1-b25f1c99a098",
   "metadata": {},
   "outputs": [
    {
     "name": "stdout",
     "output_type": "stream",
     "text": [
      "9.9\n"
     ]
    }
   ],
   "source": [
    "print(calificacion)"
   ]
  },
  {
   "cell_type": "markdown",
   "id": "580b8a16-9ba8-49e4-b4cb-969b4149e57c",
   "metadata": {},
   "source": [
    "Cuando tienes un número como valor en una variable y quieres añadirle un valor continuo de una variable , puedes usar += "
   ]
  },
  {
   "cell_type": "code",
   "execution_count": 8,
   "id": "fc0c48f9-0cf1-4c34-b87a-743d8e2dd0a7",
   "metadata": {},
   "outputs": [
    {
     "name": "stdout",
     "output_type": "stream",
     "text": [
      "50.0\n",
      "89.0\n",
      "The total price is 109.0\n"
     ]
    }
   ],
   "source": [
    "# valor inicial de la variable\n",
    "total_price = 0\n",
    "\n",
    "# valores de datos iniciales\n",
    "new_sneakers = 50.00\n",
    "nice_sweater = 39.00\n",
    "fun_books = 20.00\n",
    "\n",
    "# el valor de total_price se le sumará el valor de new_sneakers\n",
    "total_price += new_sneakers \n",
    "print(total_price)\n",
    "# el valor de total_price ahora actualizado se le sumará el valor de nice_sweater\n",
    "total_price += nice_sweater\n",
    "print(total_price)\n",
    "# el valor de total_price ahora actualizado se le sumará el valor de fun_books\n",
    "total_price += fun_books\n",
    "print(\"The total price is\", total_price)"
   ]
  },
  {
   "cell_type": "markdown",
   "id": "e8ed2ad8-1f77-428b-b465-073e7740a048",
   "metadata": {},
   "source": [
    "## Operadores"
   ]
  },
  {
   "cell_type": "markdown",
   "id": "bd4fbf3e-e249-4e23-b491-9ce69f62abae",
   "metadata": {},
   "source": [
    "Para realizar cálculos matemáticos podemos usar los siguiente operadores aritméticos\n",
    "\n",
    "* Suma + \n",
    "* Resta - \n",
    "* Multiplicación *\n",
    "* División /\n",
    "* Modulo (regresa el remanente de una division) %"
   ]
  },
  {
   "cell_type": "code",
   "execution_count": 10,
   "id": "eb6e8138-a388-4e28-b646-81be80c21458",
   "metadata": {},
   "outputs": [
    {
     "name": "stdout",
     "output_type": "stream",
     "text": [
      "2\n"
     ]
    }
   ],
   "source": [
    "modulo = 20 % 3\n",
    "print(modulo)"
   ]
  },
  {
   "cell_type": "markdown",
   "id": "2e5af304-f8c0-45c5-adec-f38a116e5dac",
   "metadata": {},
   "source": [
    "Exponentes "
   ]
  },
  {
   "cell_type": "code",
   "execution_count": 11,
   "id": "e4d2890f-5616-4245-afc9-3da31cd426a9",
   "metadata": {},
   "outputs": [
    {
     "name": "stdout",
     "output_type": "stream",
     "text": [
      "32\n"
     ]
    }
   ],
   "source": [
    "score = 2 ** 5      # score is now 32\n",
    "\n",
    "print(score)        # Output: 32"
   ]
  },
  {
   "cell_type": "markdown",
   "id": "67af031a-b222-4316-bf15-ad7d9a181ad8",
   "metadata": {},
   "source": [
    "## Ejercicio"
   ]
  },
  {
   "cell_type": "markdown",
   "id": "50da8c2a-2a8d-4a79-9d93-e963d9d37c0d",
   "metadata": {},
   "source": [
    "Crea un programa que pregunte al usuario la cantidad que tiene en pesos colombianos, pesos argentinos y dólares y calcule el total en PESOS MEXICANOS."
   ]
  },
  {
   "cell_type": "code",
   "execution_count": null,
   "id": "e44044d7-6871-4ed7-98f0-fa81637a8bd9",
   "metadata": {},
   "outputs": [],
   "source": []
  }
 ],
 "metadata": {
  "kernelspec": {
   "display_name": "Python 3 (ipykernel)",
   "language": "python",
   "name": "python3"
  },
  "language_info": {
   "codemirror_mode": {
    "name": "ipython",
    "version": 3
   },
   "file_extension": ".py",
   "mimetype": "text/x-python",
   "name": "python",
   "nbconvert_exporter": "python",
   "pygments_lexer": "ipython3",
   "version": "3.12.7"
  }
 },
 "nbformat": 4,
 "nbformat_minor": 5
}
