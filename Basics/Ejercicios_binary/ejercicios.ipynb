{
 "cells": [
  {
   "cell_type": "markdown",
   "id": "afbf706d-ba7b-444a-b637-830de98f8f6f",
   "metadata": {},
   "source": [
    "Crea un programa que pregunte al usuario la cantidad que tiene en pesos colombianos, pesos argentinos y dólares y calcule el total en PESOS MEXICANOS."
   ]
  },
  {
   "cell_type": "code",
   "execution_count": 1,
   "id": "93b076cb-ce58-4797-9083-fd7a61a5a9c8",
   "metadata": {},
   "outputs": [
    {
     "name": "stdin",
     "output_type": "stream",
     "text": [
      "Cuánto tienes en pesos colombianos? 40\n",
      "Cuánto tienes en pesos argentinos? 30\n",
      "Cuánto tienes en dólares  40\n"
     ]
    },
    {
     "name": "stdout",
     "output_type": "stream",
     "text": [
      "14.909200000000002\n"
     ]
    }
   ],
   "source": [
    "total = 0\n",
    "colombian_pesos = int(input('Cuánto tienes en pesos colombianos?'))\n",
    "total += colombian_pesos * 0.00023\n",
    "argentinan_pesos = int(input('Cuánto tienes en pesos argentinos?'))\n",
    "total += argentinan_pesos * 0.27\n",
    "dolar = int(input('Cuánto tienes en dólares '))\n",
    "total += dolar * 0.17\n",
    "print(total)"
   ]
  },
  {
   "cell_type": "code",
   "execution_count": null,
   "id": "a5217f5c-cf8a-4c7e-a547-0831516c37ee",
   "metadata": {},
   "outputs": [],
   "source": []
  }
 ],
 "metadata": {
  "kernelspec": {
   "display_name": "Python 3 (ipykernel)",
   "language": "python",
   "name": "python3"
  },
  "language_info": {
   "codemirror_mode": {
    "name": "ipython",
    "version": 3
   },
   "file_extension": ".py",
   "mimetype": "text/x-python",
   "name": "python",
   "nbconvert_exporter": "python",
   "pygments_lexer": "ipython3",
   "version": "3.12.7"
  }
 },
 "nbformat": 4,
 "nbformat_minor": 5
}
